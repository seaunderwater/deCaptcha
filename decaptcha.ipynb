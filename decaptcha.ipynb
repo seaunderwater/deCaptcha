{
 "cells": [
  {
   "cell_type": "code",
   "execution_count": 33,
   "metadata": {
    "collapsed": false,
    "deletable": true,
    "editable": true
   },
   "outputs": [
    {
     "name": "stdout",
     "output_type": "stream",
     "text": [
      "text is:@Egtgﬁ\n"
     ]
    }
   ],
   "source": [
    "import pytesseract\n",
    "import numpy as np\n",
    "from PIL import Image\n",
    "\n",
    "#print tesserocr.tesseract_version()  # print tesseract-ocr version\n",
    "# print tesserocr.get_languages()  # prints tessdata path and list of available languages\n",
    "\n",
    "img = Image.open('./wolf3.gif')\n",
    "# img = img.convert('RGBA')\n",
    "\n",
    "# data = np.array(img)\n",
    "# # just use the rgb values for comparison\n",
    "# rgb = data[:,:,:3]\n",
    "# color = [246, 213, 139]   # Original value\n",
    "# black = [0,0,0, 255]\n",
    "# white = [255,255,255,255]\n",
    "# mask = np.all(rgb == color, axis = -1)\n",
    "# # change all pixels that match color to white\n",
    "# data[mask] = white\n",
    "\n",
    "# # change all pixels that don't match color to black\n",
    "# ##data[np.logical_not(mask)] = black\n",
    "# new_im = Image.fromarray(data)\n",
    "# new_im.save('new_file.tif')\n",
    "        \n",
    "# #img = img.resize((1000, 500), Image.NEAREST)\n",
    "# #image.save('image1')\n",
    "text = pytesseract.image_to_string(img)\n",
    "# print tesserocr.image_to_text(image)  # print ocr text from image\n",
    "# # or\n",
    "# print tesserocr.file_to_text('sample.jpg')\n",
    "\n",
    "print('text is:' + text)\n",
    "\n",
    "img.show()"
   ]
  },
  {
   "cell_type": "code",
   "execution_count": 36,
   "metadata": {
    "collapsed": false,
    "deletable": true,
    "editable": true
   },
   "outputs": [
    {
     "name": "stdout",
     "output_type": "stream",
     "text": [
      "text is:35438\n"
     ]
    }
   ],
   "source": [
    "from PIL import Image\n",
    "from PIL import ImageFilter\n",
    "import pytesseract\n",
    "def binarize(im, thresh=120):\n",
    "\tassert 0 < thresh < 255\n",
    "\tassert im.mode == 'L'\n",
    "\tw, h = im.size\n",
    "\tfor y in range(0, h):\n",
    "\t\tfor x in range(0, w):\n",
    "\t\t\tif im.getpixel((x,y)) < thresh:\n",
    "\t\t\t\tim.putpixel((x,y), 0)\n",
    "\t\t\telse:\n",
    "\t\t\t\tim.putpixel((x,y), 255)\n",
    "                \n",
    "img = Image.open('./wolf4.png')\n",
    "img = img.convert('RGB')\n",
    "# img = img.convert(\"RGB\")\n",
    "width, height = img.size\n",
    "white = img.filter(ImageFilter.BLUR).filter(ImageFilter.MaxFilter(23))\n",
    "grey = img.convert('L')\n",
    "impix = img.load()\n",
    "whitepix = white.load()\n",
    "greypix = grey.load()\n",
    "\n",
    "for y in range(height):\n",
    "\tfor x in range(width):\n",
    "\t\tgreypix[x,y] = min(255, max(255 + impix[x,y][0] - whitepix[x,y][0],\n",
    "\t\t255 + impix[x,y][1] - whitepix[x,y][1],\n",
    "\t\t255 + impix[x,y][2] - whitepix[x,y][2]))\n",
    "\n",
    "new_im = grey.copy()\n",
    "binarize(new_im, 150)\n",
    "# img = new_im.resize((1000, 500), Image.NEAREST)\n",
    "new_im.show()\n",
    "text = pytesseract.image_to_string(new_im)\n",
    "print ('text is:' + text)\n",
    "# new_im.save('./image2/before_binarize.jpg')\n",
    "# binarize(new_im, 150)\n",
    "# new_im.save('./image2/after_binarize.jpg')\n"
   ]
  },
  {
   "cell_type": "code",
   "execution_count": null,
   "metadata": {
    "collapsed": true,
    "deletable": true,
    "editable": true
   },
   "outputs": [],
   "source": []
  },
  {
   "cell_type": "code",
   "execution_count": null,
   "metadata": {
    "collapsed": true
   },
   "outputs": [],
   "source": []
  }
 ],
 "metadata": {
  "kernelspec": {
   "display_name": "Python 3",
   "language": "python",
   "name": "python3"
  },
  "language_info": {
   "codemirror_mode": {
    "name": "ipython",
    "version": 3
   },
   "file_extension": ".py",
   "mimetype": "text/x-python",
   "name": "python",
   "nbconvert_exporter": "python",
   "pygments_lexer": "ipython3",
   "version": "3.5.2"
  },
  "widgets": {
   "state": {},
   "version": "1.1.2"
  }
 },
 "nbformat": 4,
 "nbformat_minor": 2
}
